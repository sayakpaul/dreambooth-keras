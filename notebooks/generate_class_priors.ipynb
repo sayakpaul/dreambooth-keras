{
  "nbformat": 4,
  "nbformat_minor": 0,
  "metadata": {
    "colab": {
      "provenance": [],
      "machine_shape": "hm"
    },
    "kernelspec": {
      "name": "python3",
      "display_name": "Python 3"
    },
    "language_info": {
      "name": "python"
    },
    "accelerator": "GPU",
    "gpuClass": "premium"
  },
  "cells": [
    {
      "cell_type": "code",
      "execution_count": null,
      "metadata": {
        "id": "lS37M6R9h7X6"
      },
      "outputs": [],
      "source": [
        "!pip install -q keras_cv"
      ]
    },
    {
      "cell_type": "code",
      "source": [
        "import tensorflow as tf \n",
        "\n",
        "tf.keras.mixed_precision.set_global_policy(\"mixed_float16\")"
      ],
      "metadata": {
        "id": "ygttkaWeiuE2"
      },
      "execution_count": null,
      "outputs": []
    },
    {
      "cell_type": "code",
      "source": [
        "import keras_cv\n",
        "\n",
        "model = keras_cv.models.StableDiffusion(img_width=512, img_height=512, jit_compile=True)"
      ],
      "metadata": {
        "id": "mgHFUd8pipkQ"
      },
      "execution_count": null,
      "outputs": []
    },
    {
      "cell_type": "code",
      "source": [
        "from tqdm import tqdm\n",
        "import numpy as np \n",
        "import hashlib\n",
        "import PIL \n",
        "import os\n",
        "\n",
        "class_images_dir = \"class-images\"\n",
        "os.makedirs(class_images_dir, exist_ok=True)\n",
        "\n",
        "\n",
        "class_prompt = \"a photo of dog\"\n",
        "num_imgs_to_generate = 200 \n",
        "for i in tqdm(range(num_imgs_to_generate)):\n",
        "    images = model.text_to_image(\n",
        "        class_prompt,\n",
        "        batch_size=3,\n",
        "    )\n",
        "    idx = np.random.choice(len(images))\n",
        "    selected_image = PIL.Image.fromarray(images[idx])\n",
        "    \n",
        "    hash_image = hashlib.sha1(selected_image.tobytes()).hexdigest()\n",
        "    image_filename = os.path.join(class_images_dir, f\"{hash_image}.jpg\")\n",
        "    selected_image.save(image_filename)"
      ],
      "metadata": {
        "id": "czaYTOIOismu"
      },
      "execution_count": null,
      "outputs": []
    }
  ]
}